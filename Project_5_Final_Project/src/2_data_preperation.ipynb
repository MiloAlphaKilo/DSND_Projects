{
 "metadata": {
  "language_info": {
   "codemirror_mode": {
    "name": "ipython",
    "version": 3
   },
   "file_extension": ".py",
   "mimetype": "text/x-python",
   "name": "python",
   "nbconvert_exporter": "python",
   "pygments_lexer": "ipython3",
   "version": "3.7.9-final"
  },
  "orig_nbformat": 2,
  "kernelspec": {
   "name": "python3",
   "display_name": "Python 3",
   "language": "python"
  }
 },
 "nbformat": 4,
 "nbformat_minor": 2,
 "cells": [
  {
   "source": [
    "## Data preparation\n",
    "\n",
    "Before the data can be sent through the KNN model it needs to be tidied. \n",
    "Here I will: \n",
    "\n",
    "* Remove nulls;\n",
    "* Create dummies as required;\n",
    "* Normalise values to prevent exponential scales;\n",
    "* Further reduce the data set to only relevant classifiers. \n",
    "\n"
   ],
   "cell_type": "markdown",
   "metadata": {}
  },
  {
   "cell_type": "code",
   "execution_count": 1,
   "metadata": {},
   "outputs": [],
   "source": [
    "# Import libraries\n",
    "\n",
    "import pandas as pd\n",
    "\n",
    "from sqlalchemy import create_engine"
   ]
  },
  {
   "cell_type": "code",
   "execution_count": 4,
   "metadata": {},
   "outputs": [
    {
     "output_type": "execute_result",
     "data": {
      "text/plain": [
       "   UNITID                               INSTNM  \\\n",
       "0  100654             Alabama A & M University   \n",
       "1  100663  University of Alabama at Birmingham   \n",
       "2  100690                   Amridge University   \n",
       "3  100706  University of Alabama in Huntsville   \n",
       "4  100724             Alabama State University   \n",
       "\n",
       "                                              IALIAS        CITY STABBR  FIPS  \\\n",
       "0                                               AAMU      Normal     AL     1   \n",
       "1                                                     Birmingham     AL     1   \n",
       "2  Southern Christian University  Regions University  Montgomery     AL     1   \n",
       "3              UAH  University of Alabama Huntsville  Huntsville     AL     1   \n",
       "4                                                     Montgomery     AL     1   \n",
       "\n",
       "   OBEREG         GENTELE        EIN       DUNS  ...  \\\n",
       "0       5      2563725000  636001109  197216455  ...   \n",
       "1       5      2059344011  636005396  063690705  ...   \n",
       "2       5  33438738777550  237034324  126307792  ...   \n",
       "3       5      2568246120  630520830  949687123  ...   \n",
       "4       5      3342294100  636001101  040672685  ...   \n",
       "\n",
       "   AMOUNT_OF_INTERACTIONS_W_SALES_RNG  AMOUNT_OF_CALLS  AMOUNT_OF_CALLS_RNG  \\\n",
       "0                          [51 - 100]               18             [1 - 50]   \n",
       "1                         [301 - 400]              292          [201 - 300]   \n",
       "2                         [401 - 500]               66           [51 - 100]   \n",
       "3                         [101 - 200]              117          [101 - 200]   \n",
       "4                         [101 - 200]               11             [1 - 50]   \n",
       "\n",
       "   AMOUNT_OF_MESSAGES  AMOUNT_OF_MESSAGES_RNG  ENGAGED_WITH_MESSAGING  \\\n",
       "0                  36                [1 - 50]                       1   \n",
       "1                  37                [1 - 50]                       0   \n",
       "2                 371             [301 - 400]                       1   \n",
       "3                  74              [51 - 100]                       1   \n",
       "4                 151             [101 - 200]                       0   \n",
       "\n",
       "   REACHED_NOT_ENGAGED_WITH_MESSAGING  ATTENDED_WEBINARS  \\\n",
       "0                                   1                  1   \n",
       "1                                   1                  0   \n",
       "2                                   1                  1   \n",
       "3                                   1                  1   \n",
       "4                                   0                  0   \n",
       "\n",
       "   WEBINAR_ATTENDANCE_SIZE  WEBINAR_ATTENDANCE_SIZE_RNG  \n",
       "0                       15                    [11 - 15]  \n",
       "1                        0                          [0]  \n",
       "2                       17                    [16 - 20]  \n",
       "3                       20                    [16 - 20]  \n",
       "4                        0                          [0]  \n",
       "\n",
       "[5 rows x 68 columns]"
      ],
      "text/html": "<div>\n<style scoped>\n    .dataframe tbody tr th:only-of-type {\n        vertical-align: middle;\n    }\n\n    .dataframe tbody tr th {\n        vertical-align: top;\n    }\n\n    .dataframe thead th {\n        text-align: right;\n    }\n</style>\n<table border=\"1\" class=\"dataframe\">\n  <thead>\n    <tr style=\"text-align: right;\">\n      <th></th>\n      <th>UNITID</th>\n      <th>INSTNM</th>\n      <th>IALIAS</th>\n      <th>CITY</th>\n      <th>STABBR</th>\n      <th>FIPS</th>\n      <th>OBEREG</th>\n      <th>GENTELE</th>\n      <th>EIN</th>\n      <th>DUNS</th>\n      <th>...</th>\n      <th>AMOUNT_OF_INTERACTIONS_W_SALES_RNG</th>\n      <th>AMOUNT_OF_CALLS</th>\n      <th>AMOUNT_OF_CALLS_RNG</th>\n      <th>AMOUNT_OF_MESSAGES</th>\n      <th>AMOUNT_OF_MESSAGES_RNG</th>\n      <th>ENGAGED_WITH_MESSAGING</th>\n      <th>REACHED_NOT_ENGAGED_WITH_MESSAGING</th>\n      <th>ATTENDED_WEBINARS</th>\n      <th>WEBINAR_ATTENDANCE_SIZE</th>\n      <th>WEBINAR_ATTENDANCE_SIZE_RNG</th>\n    </tr>\n  </thead>\n  <tbody>\n    <tr>\n      <th>0</th>\n      <td>100654</td>\n      <td>Alabama A &amp; M University</td>\n      <td>AAMU</td>\n      <td>Normal</td>\n      <td>AL</td>\n      <td>1</td>\n      <td>5</td>\n      <td>2563725000</td>\n      <td>636001109</td>\n      <td>197216455</td>\n      <td>...</td>\n      <td>[51 - 100]</td>\n      <td>18</td>\n      <td>[1 - 50]</td>\n      <td>36</td>\n      <td>[1 - 50]</td>\n      <td>1</td>\n      <td>1</td>\n      <td>1</td>\n      <td>15</td>\n      <td>[11 - 15]</td>\n    </tr>\n    <tr>\n      <th>1</th>\n      <td>100663</td>\n      <td>University of Alabama at Birmingham</td>\n      <td></td>\n      <td>Birmingham</td>\n      <td>AL</td>\n      <td>1</td>\n      <td>5</td>\n      <td>2059344011</td>\n      <td>636005396</td>\n      <td>063690705</td>\n      <td>...</td>\n      <td>[301 - 400]</td>\n      <td>292</td>\n      <td>[201 - 300]</td>\n      <td>37</td>\n      <td>[1 - 50]</td>\n      <td>0</td>\n      <td>1</td>\n      <td>0</td>\n      <td>0</td>\n      <td>[0]</td>\n    </tr>\n    <tr>\n      <th>2</th>\n      <td>100690</td>\n      <td>Amridge University</td>\n      <td>Southern Christian University  Regions University</td>\n      <td>Montgomery</td>\n      <td>AL</td>\n      <td>1</td>\n      <td>5</td>\n      <td>33438738777550</td>\n      <td>237034324</td>\n      <td>126307792</td>\n      <td>...</td>\n      <td>[401 - 500]</td>\n      <td>66</td>\n      <td>[51 - 100]</td>\n      <td>371</td>\n      <td>[301 - 400]</td>\n      <td>1</td>\n      <td>1</td>\n      <td>1</td>\n      <td>17</td>\n      <td>[16 - 20]</td>\n    </tr>\n    <tr>\n      <th>3</th>\n      <td>100706</td>\n      <td>University of Alabama in Huntsville</td>\n      <td>UAH  University of Alabama Huntsville</td>\n      <td>Huntsville</td>\n      <td>AL</td>\n      <td>1</td>\n      <td>5</td>\n      <td>2568246120</td>\n      <td>630520830</td>\n      <td>949687123</td>\n      <td>...</td>\n      <td>[101 - 200]</td>\n      <td>117</td>\n      <td>[101 - 200]</td>\n      <td>74</td>\n      <td>[51 - 100]</td>\n      <td>1</td>\n      <td>1</td>\n      <td>1</td>\n      <td>20</td>\n      <td>[16 - 20]</td>\n    </tr>\n    <tr>\n      <th>4</th>\n      <td>100724</td>\n      <td>Alabama State University</td>\n      <td></td>\n      <td>Montgomery</td>\n      <td>AL</td>\n      <td>1</td>\n      <td>5</td>\n      <td>3342294100</td>\n      <td>636001101</td>\n      <td>040672685</td>\n      <td>...</td>\n      <td>[101 - 200]</td>\n      <td>11</td>\n      <td>[1 - 50]</td>\n      <td>151</td>\n      <td>[101 - 200]</td>\n      <td>0</td>\n      <td>0</td>\n      <td>0</td>\n      <td>0</td>\n      <td>[0]</td>\n    </tr>\n  </tbody>\n</table>\n<p>5 rows × 68 columns</p>\n</div>"
     },
     "metadata": {},
     "execution_count": 4
    }
   ],
   "source": [
    "# Create connections to data and read data to pandas dataframe\n",
    "engine = create_engine('sqlite:///../data/customers_with_behaviours.db')\n",
    "df_initial = pd.read_sql_table('customers_with_behaviours', engine)\n",
    "df_initial.head()"
   ]
  },
  {
   "cell_type": "code",
   "execution_count": null,
   "metadata": {},
   "outputs": [],
   "source": []
  }
 ]
}