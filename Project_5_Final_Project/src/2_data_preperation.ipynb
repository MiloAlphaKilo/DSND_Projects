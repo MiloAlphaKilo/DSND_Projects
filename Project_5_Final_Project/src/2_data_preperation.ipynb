{
 "metadata": {
  "language_info": {
   "codemirror_mode": {
    "name": "ipython",
    "version": 3
   },
   "file_extension": ".py",
   "mimetype": "text/x-python",
   "name": "python",
   "nbconvert_exporter": "python",
   "pygments_lexer": "ipython3",
   "version": "3.7.9-final"
  },
  "orig_nbformat": 2,
  "kernelspec": {
   "name": "python3",
   "display_name": "Python 3",
   "language": "python"
  }
 },
 "nbformat": 4,
 "nbformat_minor": 2,
 "cells": [
  {
   "source": [
    "## Data preparation\n",
    "\n",
    "Before the data can be sent through the KNN model it needs to be tidied. \n",
    "Here I will: \n",
    "\n",
    "* Remove nulls;\n",
    "* Create dummies as required;\n",
    "* Normalise values to prevent exponential scales;\n",
    "* Further reduce the data set to only relevant classifiers. \n",
    "\n"
   ],
   "cell_type": "markdown",
   "metadata": {}
  },
  {
   "cell_type": "code",
   "execution_count": 46,
   "metadata": {},
   "outputs": [],
   "source": [
    "# Import libraries\n",
    "\n",
    "import pandas as pd\n",
    "\n",
    "from sqlalchemy import create_engine"
   ]
  },
  {
   "cell_type": "code",
   "execution_count": 47,
   "metadata": {},
   "outputs": [
    {
     "output_type": "execute_result",
     "data": {
      "text/plain": [
       "   UNITID                               INSTNM  \\\n",
       "0  100654             Alabama A & M University   \n",
       "1  100663  University of Alabama at Birmingham   \n",
       "2  100690                   Amridge University   \n",
       "3  100706  University of Alabama in Huntsville   \n",
       "4  100724             Alabama State University   \n",
       "\n",
       "                                              IALIAS        CITY STABBR  FIPS  \\\n",
       "0                                               AAMU      Normal     AL     1   \n",
       "1                                                     Birmingham     AL     1   \n",
       "2  Southern Christian University  Regions University  Montgomery     AL     1   \n",
       "3              UAH  University of Alabama Huntsville  Huntsville     AL     1   \n",
       "4                                                     Montgomery     AL     1   \n",
       "\n",
       "   OBEREG         GENTELE        EIN       DUNS  ...  \\\n",
       "0       5      2563725000  636001109  197216455  ...   \n",
       "1       5      2059344011  636005396  063690705  ...   \n",
       "2       5  33438738777550  237034324  126307792  ...   \n",
       "3       5      2568246120  630520830  949687123  ...   \n",
       "4       5      3342294100  636001101  040672685  ...   \n",
       "\n",
       "   AMOUNT_OF_INTERACTIONS_W_SALES_RNG  AMOUNT_OF_CALLS  AMOUNT_OF_CALLS_RNG  \\\n",
       "0                          [51 - 100]               18             [1 - 50]   \n",
       "1                         [301 - 400]              292          [201 - 300]   \n",
       "2                         [401 - 500]               66           [51 - 100]   \n",
       "3                         [101 - 200]              117          [101 - 200]   \n",
       "4                         [101 - 200]               11             [1 - 50]   \n",
       "\n",
       "   AMOUNT_OF_MESSAGES  AMOUNT_OF_MESSAGES_RNG  ENGAGED_WITH_MESSAGING  \\\n",
       "0                  36                [1 - 50]                       1   \n",
       "1                  37                [1 - 50]                       0   \n",
       "2                 371             [301 - 400]                       1   \n",
       "3                  74              [51 - 100]                       1   \n",
       "4                 151             [101 - 200]                       0   \n",
       "\n",
       "   REACHED_NOT_ENGAGED_WITH_MESSAGING  ATTENDED_WEBINARS  \\\n",
       "0                                   1                  1   \n",
       "1                                   1                  0   \n",
       "2                                   1                  1   \n",
       "3                                   1                  1   \n",
       "4                                   0                  0   \n",
       "\n",
       "   WEBINAR_ATTENDANCE_SIZE  WEBINAR_ATTENDANCE_SIZE_RNG  \n",
       "0                       15                    [11 - 15]  \n",
       "1                        0                          [0]  \n",
       "2                       17                    [16 - 20]  \n",
       "3                       20                    [16 - 20]  \n",
       "4                        0                          [0]  \n",
       "\n",
       "[5 rows x 68 columns]"
      ],
      "text/html": "<div>\n<style scoped>\n    .dataframe tbody tr th:only-of-type {\n        vertical-align: middle;\n    }\n\n    .dataframe tbody tr th {\n        vertical-align: top;\n    }\n\n    .dataframe thead th {\n        text-align: right;\n    }\n</style>\n<table border=\"1\" class=\"dataframe\">\n  <thead>\n    <tr style=\"text-align: right;\">\n      <th></th>\n      <th>UNITID</th>\n      <th>INSTNM</th>\n      <th>IALIAS</th>\n      <th>CITY</th>\n      <th>STABBR</th>\n      <th>FIPS</th>\n      <th>OBEREG</th>\n      <th>GENTELE</th>\n      <th>EIN</th>\n      <th>DUNS</th>\n      <th>...</th>\n      <th>AMOUNT_OF_INTERACTIONS_W_SALES_RNG</th>\n      <th>AMOUNT_OF_CALLS</th>\n      <th>AMOUNT_OF_CALLS_RNG</th>\n      <th>AMOUNT_OF_MESSAGES</th>\n      <th>AMOUNT_OF_MESSAGES_RNG</th>\n      <th>ENGAGED_WITH_MESSAGING</th>\n      <th>REACHED_NOT_ENGAGED_WITH_MESSAGING</th>\n      <th>ATTENDED_WEBINARS</th>\n      <th>WEBINAR_ATTENDANCE_SIZE</th>\n      <th>WEBINAR_ATTENDANCE_SIZE_RNG</th>\n    </tr>\n  </thead>\n  <tbody>\n    <tr>\n      <th>0</th>\n      <td>100654</td>\n      <td>Alabama A &amp; M University</td>\n      <td>AAMU</td>\n      <td>Normal</td>\n      <td>AL</td>\n      <td>1</td>\n      <td>5</td>\n      <td>2563725000</td>\n      <td>636001109</td>\n      <td>197216455</td>\n      <td>...</td>\n      <td>[51 - 100]</td>\n      <td>18</td>\n      <td>[1 - 50]</td>\n      <td>36</td>\n      <td>[1 - 50]</td>\n      <td>1</td>\n      <td>1</td>\n      <td>1</td>\n      <td>15</td>\n      <td>[11 - 15]</td>\n    </tr>\n    <tr>\n      <th>1</th>\n      <td>100663</td>\n      <td>University of Alabama at Birmingham</td>\n      <td></td>\n      <td>Birmingham</td>\n      <td>AL</td>\n      <td>1</td>\n      <td>5</td>\n      <td>2059344011</td>\n      <td>636005396</td>\n      <td>063690705</td>\n      <td>...</td>\n      <td>[301 - 400]</td>\n      <td>292</td>\n      <td>[201 - 300]</td>\n      <td>37</td>\n      <td>[1 - 50]</td>\n      <td>0</td>\n      <td>1</td>\n      <td>0</td>\n      <td>0</td>\n      <td>[0]</td>\n    </tr>\n    <tr>\n      <th>2</th>\n      <td>100690</td>\n      <td>Amridge University</td>\n      <td>Southern Christian University  Regions University</td>\n      <td>Montgomery</td>\n      <td>AL</td>\n      <td>1</td>\n      <td>5</td>\n      <td>33438738777550</td>\n      <td>237034324</td>\n      <td>126307792</td>\n      <td>...</td>\n      <td>[401 - 500]</td>\n      <td>66</td>\n      <td>[51 - 100]</td>\n      <td>371</td>\n      <td>[301 - 400]</td>\n      <td>1</td>\n      <td>1</td>\n      <td>1</td>\n      <td>17</td>\n      <td>[16 - 20]</td>\n    </tr>\n    <tr>\n      <th>3</th>\n      <td>100706</td>\n      <td>University of Alabama in Huntsville</td>\n      <td>UAH  University of Alabama Huntsville</td>\n      <td>Huntsville</td>\n      <td>AL</td>\n      <td>1</td>\n      <td>5</td>\n      <td>2568246120</td>\n      <td>630520830</td>\n      <td>949687123</td>\n      <td>...</td>\n      <td>[101 - 200]</td>\n      <td>117</td>\n      <td>[101 - 200]</td>\n      <td>74</td>\n      <td>[51 - 100]</td>\n      <td>1</td>\n      <td>1</td>\n      <td>1</td>\n      <td>20</td>\n      <td>[16 - 20]</td>\n    </tr>\n    <tr>\n      <th>4</th>\n      <td>100724</td>\n      <td>Alabama State University</td>\n      <td></td>\n      <td>Montgomery</td>\n      <td>AL</td>\n      <td>1</td>\n      <td>5</td>\n      <td>3342294100</td>\n      <td>636001101</td>\n      <td>040672685</td>\n      <td>...</td>\n      <td>[101 - 200]</td>\n      <td>11</td>\n      <td>[1 - 50]</td>\n      <td>151</td>\n      <td>[101 - 200]</td>\n      <td>0</td>\n      <td>0</td>\n      <td>0</td>\n      <td>0</td>\n      <td>[0]</td>\n    </tr>\n  </tbody>\n</table>\n<p>5 rows × 68 columns</p>\n</div>"
     },
     "metadata": {},
     "execution_count": 47
    }
   ],
   "source": [
    "# Create connections to data and read data to pandas dataframe\n",
    "engine = create_engine('sqlite:///../data/customers_with_behaviours.db')\n",
    "df_initial = pd.read_sql_table('customers_with_behaviours', engine)\n",
    "df_initial.head()"
   ]
  },
  {
   "source": [
    "### Introducing additional data for features and or classifiers do the data set. "
   ],
   "cell_type": "markdown",
   "metadata": {}
  },
  {
   "cell_type": "code",
   "execution_count": 48,
   "metadata": {},
   "outputs": [],
   "source": [
    "df_ic2019 = pd.read_csv('../data/ic2019.csv')\n",
    "df_adm2019 = pd.read_csv('../data/adm2019.csv')"
   ]
  },
  {
   "source": [
    "### Reduce the files to only the required columns. "
   ],
   "cell_type": "markdown",
   "metadata": {}
  },
  {
   "cell_type": "code",
   "execution_count": 49,
   "metadata": {},
   "outputs": [],
   "source": [
    "df_ic2019_cls_col = ['UNITID', 'PEO1ISTR', 'PEO2ISTR', 'PEO3ISTR', 'PEO4ISTR', 'PEO5ISTR', 'PEO6ISTR', 'CNTLAFFI', 'PUBPRIME',\n",
    "                     'PUBSECON', 'RELAFFIL', 'LEVEL1', 'LEVEL2', 'LEVEL3', 'LEVEL4', 'LEVEL5', 'LEVEL6', 'LEVEL7', \n",
    "                     'LEVEL8', 'LEVEL12', 'LEVEL17', 'LEVEL18', 'LEVEL19', 'CALSYS', 'FT_UG', 'FT_FTUG', 'FTGDNIDP', \n",
    "                     'PT_UG', 'PT_FTUG', 'PTGDNIDP', 'DOCPP', 'DOCPPSP', 'OPENADMP', 'CREDITS1', 'CREDITS2', 'CREDITS3', \n",
    "                     'CREDITS4', 'STUSRV2', 'STUSRV3', 'STUSRV4', 'STUSRV8', 'LIBRES1', 'LIBRES2', 'LIBRES3', 'LIBRES4', \n",
    "                     'LIBRES5', 'TUITPL', 'TUITPL1', 'TUITPL2', 'TUITPL3', 'TUITPL4', 'DSTNUGC', 'DSTNUGP', 'DSTNUGN', \n",
    "                     'DSTNGC', 'DSTNGP', 'DSTNGN', 'DISTCRS', 'DISTPGS', 'DSTNCED1', 'DSTNCED2', 'DSTNCED3', 'DISTNCED', \n",
    "                     'DISAB', 'ROOM', 'ROOMCAP', 'BOARD']\n",
    "\n",
    "df_cls_ic2019 = df_ic2019[df_ic2019_cls_col]\n",
    "\n",
    "df_adm2019_cls_cols = ['UNITID', 'APPLCN', 'APPLCNM', 'APPLCNW', 'ADMSSN', 'ADMSSNM', 'ADMSSNW', 'ENRLT', 'ENRLM',\n",
    "                       'ENRLW', 'ENRLFT', 'ENRLFTM', 'ENRLFTW', 'ENRLPT', 'ENRLPTM', 'ENRLPTW', 'SATNUM', 'SATPCT', \n",
    "                       'ACTNUM', 'ACTPCT', 'SATVR25', 'SATVR75', 'SATMT25', 'SATMT75']\n",
    "\n",
    "df_cls_adm2019 = df_adm2019[df_adm2019_cls_cols]"
   ]
  },
  {
   "source": [
    "### Join the data sets together"
   ],
   "cell_type": "markdown",
   "metadata": {}
  },
  {
   "cell_type": "code",
   "execution_count": 50,
   "metadata": {},
   "outputs": [
    {
     "output_type": "stream",
     "name": "stdout",
     "text": [
      "\nThe dataframe df_all_data is shaped with 157 columns and 2010 rows\n\n\nHere is the head of the dataframe ... \n    UNITID                               INSTNM  \\\n0  100654             Alabama A & M University   \n1  100663  University of Alabama at Birmingham   \n2  100706  University of Alabama in Huntsville   \n3  100724             Alabama State University   \n4  100751            The University of Alabama   \n\n                                  IALIAS        CITY STABBR  FIPS  OBEREG  \\\n0                                   AAMU      Normal     AL     1       5   \n1                                         Birmingham     AL     1       5   \n2  UAH  University of Alabama Huntsville  Huntsville     AL     1       5   \n3                                         Montgomery     AL     1       5   \n4                                         Tuscaloosa     AL     1       5   \n\n      GENTELE        EIN       DUNS  ...  DISTCRS  DISTPGS  DSTNCED1  \\\n0  2563725000  636001109  197216455  ...        1        1         1   \n1  2059344011  636005396  063690705  ...        1        1         1   \n2  2568246120  630520830  949687123  ...        1        1         1   \n3  3342294100  636001101  040672685  ...        1        1         1   \n4  2053486010  636001138  045632635  ...        1        1         1   \n\n   DSTNCED2  DSTNCED3  DISTNCED  DISAB  ROOM  ROOMCAP  BOARD  \n0         1         0         2      1     1     3220      1  \n1         1         0         2      1     1     2982      2  \n2         1         0         2      1     1     2437      1  \n3         1         0         2      1     1     2491      1  \n4         1         0         2      2     1     8548      2  \n\n[5 rows x 157 columns]\n"
     ]
    }
   ],
   "source": [
    "df_combined_features = df_cls_adm2019.merge(df_cls_ic2019, on='UNITID') #, how='left')\n",
    "df_all_data = df_initial.merge(df_combined_features, on='UNITID') #, how='left')\n",
    "print(f\"\\nThe dataframe df_all_data is shaped with {df_all_data.shape[1]} columns and {df_all_data.shape[0]} rows\\n\\n\")\n",
    "print(f\"Here is the head of the dataframe ... \\n {df_all_data.head()}\")"
   ]
  },
  {
   "source": [
    "#### Here we will remove the `-1` and `-2` placeholders in the data."
   ],
   "cell_type": "markdown",
   "metadata": {}
  },
  {
   "cell_type": "code",
   "execution_count": 51,
   "metadata": {},
   "outputs": [],
   "source": [
    "df_all_data.replace([-2, '-2', -1, '-1'], 0, inplace=True)"
   ]
  },
  {
   "source": [
    "#### Remove unnecessary uniqueness columns from the data set, and check for any `NaN` values. "
   ],
   "cell_type": "markdown",
   "metadata": {}
  },
  {
   "cell_type": "code",
   "execution_count": 52,
   "metadata": {},
   "outputs": [],
   "source": [
    "unnecessary_uniqueness_columns = ['INSTNM', 'IALIAS', 'FIPS', 'OBEREG', 'GENTELE', 'EIN', 'DUNS', 'OPEID', 'CNGDSTCD']\n",
    "df_all_data.drop(unnecessary_uniqueness_columns, axis=1, inplace=True)"
   ]
  },
  {
   "cell_type": "code",
   "execution_count": 69,
   "metadata": {},
   "outputs": [
    {
     "output_type": "stream",
     "name": "stdout",
     "text": [
      "The size of the data is 297480 with 8465 not null items\n"
     ]
    }
   ],
   "source": [
    "data_not_null = df_all_data.isnull().sum().sum()\n",
    "col_count = df_all_data.shape[1]\n",
    "row_count = df_all_data.shape[0]\n",
    "\n",
    "print(f\"The size of the data is {col_count*row_count} with {data_not_null} null items\")"
   ]
  },
  {
   "cell_type": "code",
   "execution_count": 82,
   "metadata": {},
   "outputs": [
    {
     "output_type": "execute_result",
     "data": {
      "text/plain": [
       "         nulls\n",
       "ADMSSN      17\n",
       "ADMSSNM     93\n",
       "ADMSSNW    103\n",
       "ENRLT       22\n",
       "ENRLM      114\n",
       "ENRLW      110\n",
       "ENRLFT      38\n",
       "ENRLFTM    147\n",
       "ENRLFTW    126\n",
       "ENRLPT     522\n",
       "ENRLPTM    587\n",
       "ENRLPTW    534\n",
       "SATNUM     722\n",
       "SATPCT     722\n",
       "ACTNUM     722\n",
       "ACTPCT     722\n",
       "SATVR25    791\n",
       "SATVR75    791\n",
       "SATMT25    791\n",
       "SATMT75    791"
      ],
      "text/html": "<div>\n<style scoped>\n    .dataframe tbody tr th:only-of-type {\n        vertical-align: middle;\n    }\n\n    .dataframe tbody tr th {\n        vertical-align: top;\n    }\n\n    .dataframe thead th {\n        text-align: right;\n    }\n</style>\n<table border=\"1\" class=\"dataframe\">\n  <thead>\n    <tr style=\"text-align: right;\">\n      <th></th>\n      <th>nulls</th>\n    </tr>\n  </thead>\n  <tbody>\n    <tr>\n      <th>ADMSSN</th>\n      <td>17</td>\n    </tr>\n    <tr>\n      <th>ADMSSNM</th>\n      <td>93</td>\n    </tr>\n    <tr>\n      <th>ADMSSNW</th>\n      <td>103</td>\n    </tr>\n    <tr>\n      <th>ENRLT</th>\n      <td>22</td>\n    </tr>\n    <tr>\n      <th>ENRLM</th>\n      <td>114</td>\n    </tr>\n    <tr>\n      <th>ENRLW</th>\n      <td>110</td>\n    </tr>\n    <tr>\n      <th>ENRLFT</th>\n      <td>38</td>\n    </tr>\n    <tr>\n      <th>ENRLFTM</th>\n      <td>147</td>\n    </tr>\n    <tr>\n      <th>ENRLFTW</th>\n      <td>126</td>\n    </tr>\n    <tr>\n      <th>ENRLPT</th>\n      <td>522</td>\n    </tr>\n    <tr>\n      <th>ENRLPTM</th>\n      <td>587</td>\n    </tr>\n    <tr>\n      <th>ENRLPTW</th>\n      <td>534</td>\n    </tr>\n    <tr>\n      <th>SATNUM</th>\n      <td>722</td>\n    </tr>\n    <tr>\n      <th>SATPCT</th>\n      <td>722</td>\n    </tr>\n    <tr>\n      <th>ACTNUM</th>\n      <td>722</td>\n    </tr>\n    <tr>\n      <th>ACTPCT</th>\n      <td>722</td>\n    </tr>\n    <tr>\n      <th>SATVR25</th>\n      <td>791</td>\n    </tr>\n    <tr>\n      <th>SATVR75</th>\n      <td>791</td>\n    </tr>\n    <tr>\n      <th>SATMT25</th>\n      <td>791</td>\n    </tr>\n    <tr>\n      <th>SATMT75</th>\n      <td>791</td>\n    </tr>\n  </tbody>\n</table>\n</div>"
     },
     "metadata": {},
     "execution_count": 82
    }
   ],
   "source": [
    "df_data_null = df_all_data.isnull().sum().to_frame('nulls')\n",
    "df_data_null[df_data_null['nulls'] > 0]"
   ]
  },
  {
   "cell_type": "code",
   "execution_count": 110,
   "metadata": {},
   "outputs": [],
   "source": [
    "def impute_nulls_with_column_median(list_of_columns, dataframe):\n",
    "\n",
    "    \"\"\"\n",
    "    The function takes a list of applicable columns and a corresponding dataframe. \n",
    "    The median is calculated per column and then identifies NaNs to be replaced with the median\n",
    "\n",
    "    INPUT: \n",
    "\n",
    "    list_of_columns: a list of columns with null values\n",
    "    dataframe: the dataframe relating to the specified list.\n",
    "\n",
    "    OUTPUT:\n",
    "\n",
    "    None\n",
    "        The dataframe values are replaced inplace to there is no need to return the frame\n",
    "    \"\"\"\n",
    "\n",
    "    for col in list_of_columns:\n",
    "        impute_median = int(dataframe[col].median())\n",
    "        dataframe[col].fillna(value=impute_median, inplace=True)\n",
    "    \n",
    "    df_dataframe_nulls = dataframe.isnull().sum().to_frame('Nulls')\n",
    "    list_null_cols_vals = df_dataframe_nulls[df_dataframe_nulls['Nulls'] > 0]\n",
    "    \n",
    "    print(f'\\nImputing of values complete, you can find the df header below: \\n\\n {dataframe.head()}')\n",
    "    print(f'\\nLets look for the amount of nulls remaining in the dataframe: \\n\\n')\n",
    "\n",
    "    for rows in list_null_cols_vals.items():\n",
    "        print(f'{rows} \\n')"
   ]
  },
  {
   "cell_type": "code",
   "execution_count": 111,
   "metadata": {},
   "outputs": [
    {
     "output_type": "stream",
     "name": "stdout",
     "text": [
      "\nImputing of values complete, you can find the df header below: \n\n    UNITID        CITY STABBR  OPEFLAG  SECTOR  ICLEVEL  CONTROL  HLOFFER  \\\n0  100654      Normal     AL        1       1        1        1        9   \n1  100663  Birmingham     AL        1       1        1        1        9   \n2  100706  Huntsville     AL        1       1        1        1        9   \n3  100724  Montgomery     AL        1       1        1        1        9   \n4  100751  Tuscaloosa     AL        1       1        1        1        9   \n\n   UGOFFER  GROFFER  ...  DISTCRS  DISTPGS  DSTNCED1  DSTNCED2  DSTNCED3  \\\n0        1        1  ...        1        1         1         1         0   \n1        1        1  ...        1        1         1         1         0   \n2        1        1  ...        1        1         1         1         0   \n3        1        1  ...        1        1         1         1         0   \n4        1        1  ...        1        1         1         1         0   \n\n   DISTNCED  DISAB  ROOM ROOMCAP  BOARD  \n0         2      1     1    3220      1  \n1         2      1     1    2982      2  \n2         2      1     1    2437      1  \n3         2      1     1    2491      1  \n4         2      2     1    8548      2  \n\n[5 rows x 148 columns]\n\nLets look for the amount of nulls remaining in the dataframe: \n\n\n('Nulls', Series([], Name: Nulls, dtype: int64)) \n\n"
     ]
    }
   ],
   "source": [
    "columns_with_null_data = list(df_data_null[df_data_null['nulls'] > 0].index)\n",
    "impute_nulls_with_column_median(columns_with_null_data, df_all_data)\n"
   ]
  },
  {
   "source": [
    "#### Now that we've improved the data quality by removing the `NaN` values we need to standardise the values for the KNN model. "
   ],
   "cell_type": "markdown",
   "metadata": {}
  },
  {
   "cell_type": "code",
   "execution_count": null,
   "metadata": {},
   "outputs": [],
   "source": []
  }
 ]
}