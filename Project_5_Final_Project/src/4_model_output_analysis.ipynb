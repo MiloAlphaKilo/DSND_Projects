{
 "metadata": {
  "language_info": {
   "codemirror_mode": {
    "name": "ipython",
    "version": 3
   },
   "file_extension": ".py",
   "mimetype": "text/x-python",
   "name": "python",
   "nbconvert_exporter": "python",
   "pygments_lexer": "ipython3",
   "version": "3.7.9-final"
  },
  "orig_nbformat": 2,
  "kernelspec": {
   "name": "python3",
   "display_name": "Python 3",
   "language": "python"
  }
 },
 "nbformat": 4,
 "nbformat_minor": 2,
 "cells": [
  {
   "source": [
    "# Output Analysis\n",
    "Here we will look at the results from the model to see if there are any useful conclusions to be made.\n",
    "### A quick rebuild\n",
    "Let's rebuild the model for a clean start of the analysis"
   ],
   "cell_type": "markdown",
   "metadata": {}
  },
  {
   "cell_type": "code",
   "execution_count": null,
   "metadata": {},
   "outputs": [],
   "source": [
    "# import needed libs\n",
    "import pandas as pd\n",
    "import seaborn as sns\n",
    "import matplotlib.pyplot as plt\n",
    "\n",
    "from sklearn.model_selection import train_test_split\n",
    "from sklearn.neighbors import KNeighborsClassifier\n",
    "from sqlalchemy import create_engine\n"
   ]
  },
  {
   "cell_type": "code",
   "execution_count": null,
   "metadata": {},
   "outputs": [],
   "source": [
    "engine = create_engine('sqlite:///../data/customers_with_behaviours.db')\n",
    "df_feat_contacted_initial = pd.read_sql_table('feat_all_contacted', engine)\n",
    "df_all_data_contacted = pd.read_sql_table('all_data_contacted', engine)\n",
    "\n",
    "X = df_feat_contacted_initial\n",
    "y = df_all_data_contacted['CONVERTED']\n",
    "\n",
    "X_train, X_test, y_train, y_test = train_test_split(X, y, test_size = 0.2)\n",
    "\n",
    "num_neighbors = 33\n",
    "knn = KNeighborsClassifier(n_neighbors=num_neighbors)\n",
    "knn.fit(X_train, y_train)\n",
    "pred = knn.predict(X_test)"
   ]
  }
 ]
}