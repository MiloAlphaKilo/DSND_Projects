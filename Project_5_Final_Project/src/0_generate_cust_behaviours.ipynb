{
 "metadata": {
  "language_info": {
   "codemirror_mode": {
    "name": "ipython",
    "version": 3
   },
   "file_extension": ".py",
   "mimetype": "text/x-python",
   "name": "python",
   "nbconvert_exporter": "python",
   "pygments_lexer": "ipython3",
   "version": "3.7.9-final"
  },
  "orig_nbformat": 2,
  "kernelspec": {
   "name": "python3",
   "display_name": "Python 3.7.9 64-bit ('DSND': conda)",
   "metadata": {
    "interpreter": {
     "hash": "8576bccae4cb9e17b2bee3a523a1859144fa7199d902a74a12fa03f03882d016"
    }
   }
  }
 },
 "nbformat": 4,
 "nbformat_minor": 2,
 "cells": [
  {
   "cell_type": "code",
   "execution_count": 14,
   "metadata": {},
   "outputs": [],
   "source": [
    "import numpy as np \n",
    "import pandas as pd\n",
    "import sklearn.datasets as dt \n",
    "\n",
    "from sqlalchemy import create_engine"
   ]
  },
  {
   "cell_type": "code",
   "execution_count": 15,
   "metadata": {},
   "outputs": [],
   "source": [
    "engine = create_engine('sqlite:///../data/orgs_customer_behaviours.db')\n",
    "\n",
    "column_names = ['DID_TRIAL', 'PURCHASED_PREVIOUS_PRODUCT', 'AMOUNT_OF_LICENSES',\n",
    "                'TERM_OF_LICENSE', 'HAS_TECH_DEPT', 'AMOUNT_OF_INTERACTIONS_W_SALES',\n",
    "                'AMOUNT_OF_CALLS', 'AMOUNT_OF_MESSAGES', 'ENGAGED_WITH_MESSAGING', \n",
    "                'REACHED_NOT_ENGAGED_WITH_MESSAGING', 'ATTENDED_WEBINARS', 'WEBINAR_ATTENDANCE_SIZE']"
   ]
  },
  {
   "cell_type": "code",
   "execution_count": 21,
   "metadata": {},
   "outputs": [
    {
     "output_type": "stream",
     "name": "stdout",
     "text": [
      "['INSTNM', 'IALIAS', 'ADDR', 'CITY', 'STABBR', 'ZIP', 'FIPS', 'OBEREG', 'CHFNM', 'CHFTITLE', 'GENTELE', 'EIN', 'DUNS', 'OPEID', 'OPEFLAG', 'WEBADDR', 'ADMINURL', 'FAIDURL', 'APPLURL', 'NPRICURL', 'VETURL', 'ATHURL', 'DISAURL', 'SECTOR', 'ICLEVEL', 'CONTROL', 'HLOFFER', 'UGOFFER', 'GROFFER', 'HDEGOFR1', 'DEGGRANT', 'HBCU', 'HOSPITAL', 'MEDICAL', 'TRIBAL', 'LOCALE', 'OPENPUBL', 'ACT', 'NEWID', 'DEATHYR', 'CLOSEDAT', 'CYACTIVE', 'POSTSEC', 'PSEFLAG', 'PSET4FLG', 'RPTMTH', 'INSTCAT', 'C18BASIC', 'C18IPUG', 'C18IPGRD', 'C18UGPRF', 'C18ENPRF', 'C18SZSET', 'C15BASIC', 'CCBASIC', 'CARNEGIE', 'LANDGRNT', 'INSTSIZE', 'F1SYSTYP', 'F1SYSNAM', 'F1SYSCOD', 'CBSA', 'CBSATYPE', 'CSA', 'NECTA', 'COUNTYCD', 'COUNTYNM', 'CNGDSTCD', 'LONGITUD', 'LATITUDE', 'DFRCGID', 'DFRCUSCG']\n"
     ]
    },
    {
     "output_type": "execute_result",
     "data": {
      "text/plain": [
       "      UNITID CONVERTED\n",
       "0     100654         0\n",
       "1     100663         1\n",
       "2     100690         1\n",
       "3     100706         0\n",
       "4     100724         0\n",
       "...      ...       ...\n",
       "6554  494889         1\n",
       "6555  494898         0\n",
       "6556  494904         1\n",
       "6557  494913         1\n",
       "6558  494922         1\n",
       "\n",
       "[6559 rows x 2 columns]"
      ],
      "text/html": "<div>\n<style scoped>\n    .dataframe tbody tr th:only-of-type {\n        vertical-align: middle;\n    }\n\n    .dataframe tbody tr th {\n        vertical-align: top;\n    }\n\n    .dataframe thead th {\n        text-align: right;\n    }\n</style>\n<table border=\"1\" class=\"dataframe\">\n  <thead>\n    <tr style=\"text-align: right;\">\n      <th></th>\n      <th>UNITID</th>\n      <th>CONVERTED</th>\n    </tr>\n  </thead>\n  <tbody>\n    <tr>\n      <th>0</th>\n      <td>100654</td>\n      <td>0</td>\n    </tr>\n    <tr>\n      <th>1</th>\n      <td>100663</td>\n      <td>1</td>\n    </tr>\n    <tr>\n      <th>2</th>\n      <td>100690</td>\n      <td>1</td>\n    </tr>\n    <tr>\n      <th>3</th>\n      <td>100706</td>\n      <td>0</td>\n    </tr>\n    <tr>\n      <th>4</th>\n      <td>100724</td>\n      <td>0</td>\n    </tr>\n    <tr>\n      <th>...</th>\n      <td>...</td>\n      <td>...</td>\n    </tr>\n    <tr>\n      <th>6554</th>\n      <td>494889</td>\n      <td>1</td>\n    </tr>\n    <tr>\n      <th>6555</th>\n      <td>494898</td>\n      <td>0</td>\n    </tr>\n    <tr>\n      <th>6556</th>\n      <td>494904</td>\n      <td>1</td>\n    </tr>\n    <tr>\n      <th>6557</th>\n      <td>494913</td>\n      <td>1</td>\n    </tr>\n    <tr>\n      <th>6558</th>\n      <td>494922</td>\n      <td>1</td>\n    </tr>\n  </tbody>\n</table>\n<p>6559 rows × 2 columns</p>\n</div>"
     },
     "metadata": {},
     "execution_count": 21
    }
   ],
   "source": [
    "df_org = pd.read_csv('../data/hd2019.csv', encoding='latin1')\n",
    "synth_conversion = np.random.choice(['0','1'], len(df_org))\n",
    "column_names = list(df_org.columns)\n",
    "column_names.remove('UNITID')\n",
    "print(column_names)\n",
    "df_org_unitid = df_org.drop(column_names, axis=1)\n",
    "df_org_unitid.insert(1, 'CONVERTED', synth_conversion)\n",
    "df_org_unitid"
   ]
  },
  {
   "cell_type": "code",
   "execution_count": 4,
   "metadata": {},
   "outputs": [],
   "source": [
    "x, y = dt.make_classification(n_samples=1000, n_features=12, n_informative=6, n_repeated=0, n_redundant=4, random_state=42)"
   ]
  },
  {
   "cell_type": "code",
   "execution_count": 5,
   "metadata": {},
   "outputs": [],
   "source": [
    "df_x = pd.DataFrame(x)\n",
    "df_y = pd.DataFrame(y)"
   ]
  },
  {
   "cell_type": "code",
   "execution_count": 6,
   "metadata": {},
   "outputs": [],
   "source": [
    "df_x.columns = column_names\n",
    "df_y.columns = ['CONVERTED']"
   ]
  },
  {
   "cell_type": "code",
   "execution_count": 7,
   "metadata": {},
   "outputs": [],
   "source": [
    "df_x.to_sql('synth_customer_behaviour_data', engine, if_exists='replace', index=False)\n",
    "df_y.to_sql('synth_customer_target_classifier_data', engine, if_exists='replace', index=False)"
   ]
  }
 ]
}